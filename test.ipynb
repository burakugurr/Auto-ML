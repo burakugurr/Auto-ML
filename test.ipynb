{
 "cells": [
  {
   "cell_type": "code",
   "execution_count": 1,
   "metadata": {},
   "outputs": [],
   "source": [
    "import pandas as pd\n"
   ]
  },
  {
   "cell_type": "code",
   "execution_count": 2,
   "metadata": {},
   "outputs": [
    {
     "data": {
      "text/html": [
       "<div>\n",
       "<style scoped>\n",
       "    .dataframe tbody tr th:only-of-type {\n",
       "        vertical-align: middle;\n",
       "    }\n",
       "\n",
       "    .dataframe tbody tr th {\n",
       "        vertical-align: top;\n",
       "    }\n",
       "\n",
       "    .dataframe thead th {\n",
       "        text-align: right;\n",
       "    }\n",
       "</style>\n",
       "<table border=\"1\" class=\"dataframe\">\n",
       "  <thead>\n",
       "    <tr style=\"text-align: right;\">\n",
       "      <th></th>\n",
       "      <th>Adj Close</th>\n",
       "    </tr>\n",
       "    <tr>\n",
       "      <th>Date</th>\n",
       "      <th></th>\n",
       "    </tr>\n",
       "  </thead>\n",
       "  <tbody>\n",
       "    <tr>\n",
       "      <th>2000-01-03</th>\n",
       "      <td>0.855796</td>\n",
       "    </tr>\n",
       "    <tr>\n",
       "      <th>2000-01-04</th>\n",
       "      <td>0.783644</td>\n",
       "    </tr>\n",
       "    <tr>\n",
       "      <th>2000-01-05</th>\n",
       "      <td>0.795111</td>\n",
       "    </tr>\n",
       "    <tr>\n",
       "      <th>2000-01-06</th>\n",
       "      <td>0.726304</td>\n",
       "    </tr>\n",
       "    <tr>\n",
       "      <th>2000-01-07</th>\n",
       "      <td>0.760708</td>\n",
       "    </tr>\n",
       "  </tbody>\n",
       "</table>\n",
       "</div>"
      ],
      "text/plain": [
       "            Adj Close\n",
       "Date                 \n",
       "2000-01-03   0.855796\n",
       "2000-01-04   0.783644\n",
       "2000-01-05   0.795111\n",
       "2000-01-06   0.726304\n",
       "2000-01-07   0.760708"
      ]
     },
     "execution_count": 2,
     "metadata": {},
     "output_type": "execute_result"
    }
   ],
   "source": [
    "data = pd.read_csv('data.csv')\n",
    "data = data.drop([\"High\",\"Low\"\t,\"Open\",\"Close\",\"Volume\"], axis=1)\n",
    "data['Date'] = pd.to_datetime(data['Date'], errors='coerce')\n",
    "data.set_index(\"Date\",inplace=True)\n",
    "\n",
    "data.head()"
   ]
  },
  {
   "cell_type": "code",
   "execution_count": 3,
   "metadata": {},
   "outputs": [
    {
     "data": {
      "text/html": [
       "<div>\n",
       "<style scoped>\n",
       "    .dataframe tbody tr th:only-of-type {\n",
       "        vertical-align: middle;\n",
       "    }\n",
       "\n",
       "    .dataframe tbody tr th {\n",
       "        vertical-align: top;\n",
       "    }\n",
       "\n",
       "    .dataframe thead th {\n",
       "        text-align: right;\n",
       "    }\n",
       "</style>\n",
       "<table border=\"1\" class=\"dataframe\">\n",
       "  <thead>\n",
       "    <tr style=\"text-align: right;\">\n",
       "      <th></th>\n",
       "      <th>Adj Close</th>\n",
       "      <th>day</th>\n",
       "      <th>day_name</th>\n",
       "      <th>day_of_year</th>\n",
       "      <th>week_of_year</th>\n",
       "      <th>hour</th>\n",
       "      <th>is_weekday</th>\n",
       "    </tr>\n",
       "    <tr>\n",
       "      <th>Date</th>\n",
       "      <th></th>\n",
       "      <th></th>\n",
       "      <th></th>\n",
       "      <th></th>\n",
       "      <th></th>\n",
       "      <th></th>\n",
       "      <th></th>\n",
       "    </tr>\n",
       "  </thead>\n",
       "  <tbody>\n",
       "    <tr>\n",
       "      <th>2000-01-03</th>\n",
       "      <td>0.855796</td>\n",
       "      <td>3</td>\n",
       "      <td>Monday</td>\n",
       "      <td>3</td>\n",
       "      <td>1</td>\n",
       "      <td>0</td>\n",
       "      <td>1</td>\n",
       "    </tr>\n",
       "    <tr>\n",
       "      <th>2000-01-04</th>\n",
       "      <td>0.783644</td>\n",
       "      <td>4</td>\n",
       "      <td>Tuesday</td>\n",
       "      <td>4</td>\n",
       "      <td>1</td>\n",
       "      <td>0</td>\n",
       "      <td>2</td>\n",
       "    </tr>\n",
       "    <tr>\n",
       "      <th>2000-01-05</th>\n",
       "      <td>0.795111</td>\n",
       "      <td>5</td>\n",
       "      <td>Wednesday</td>\n",
       "      <td>5</td>\n",
       "      <td>1</td>\n",
       "      <td>0</td>\n",
       "      <td>3</td>\n",
       "    </tr>\n",
       "    <tr>\n",
       "      <th>2000-01-06</th>\n",
       "      <td>0.726304</td>\n",
       "      <td>6</td>\n",
       "      <td>Thursday</td>\n",
       "      <td>6</td>\n",
       "      <td>1</td>\n",
       "      <td>0</td>\n",
       "      <td>4</td>\n",
       "    </tr>\n",
       "    <tr>\n",
       "      <th>2000-01-07</th>\n",
       "      <td>0.760708</td>\n",
       "      <td>7</td>\n",
       "      <td>Friday</td>\n",
       "      <td>7</td>\n",
       "      <td>1</td>\n",
       "      <td>0</td>\n",
       "      <td>5</td>\n",
       "    </tr>\n",
       "  </tbody>\n",
       "</table>\n",
       "</div>"
      ],
      "text/plain": [
       "            Adj Close  day   day_name  day_of_year  week_of_year  hour  \\\n",
       "Date                                                                     \n",
       "2000-01-03   0.855796    3     Monday            3             1     0   \n",
       "2000-01-04   0.783644    4    Tuesday            4             1     0   \n",
       "2000-01-05   0.795111    5  Wednesday            5             1     0   \n",
       "2000-01-06   0.726304    6   Thursday            6             1     0   \n",
       "2000-01-07   0.760708    7     Friday            7             1     0   \n",
       "\n",
       "            is_weekday  \n",
       "Date                    \n",
       "2000-01-03           1  \n",
       "2000-01-04           2  \n",
       "2000-01-05           3  \n",
       "2000-01-06           4  \n",
       "2000-01-07           5  "
      ]
     },
     "execution_count": 3,
     "metadata": {},
     "output_type": "execute_result"
    }
   ],
   "source": [
    "data['day'] = [i.day for i in data.index]\n",
    "data['day_name'] = [i.day_name() for i in data.index]\n",
    "data['day_of_year'] = [i.dayofyear for i in data.index]\n",
    "data['week_of_year'] = [i.weekofyear for i in data.index]\n",
    "data['hour'] = [i.hour for i in data.index]\n",
    "data['is_weekday'] = [i.isoweekday() for i in data.index]\n",
    "data.head()"
   ]
  },
  {
   "cell_type": "code",
   "execution_count": 4,
   "metadata": {},
   "outputs": [
    {
     "name": "stderr",
     "output_type": "stream",
     "text": [
      "C:\\Users\\balug\\AppData\\Roaming\\Python\\Python37\\site-packages\\ipykernel_launcher.py:2: FutureWarning: The pandas.datetime class is deprecated and will be removed from pandas in a future version. Import from datetime module instead.\n",
      "  \n"
     ]
    }
   ],
   "source": [
    "# fit an ARIMA model and plot residual errors\n",
    "from pandas import datetime\n",
    "from pandas import read_csv\n",
    "from pandas import DataFrame\n",
    "from statsmodels.tsa.arima.model import ARIMA\n",
    "from matplotlib import pyplot"
   ]
  },
  {
   "cell_type": "code",
   "execution_count": 5,
   "metadata": {},
   "outputs": [
    {
     "name": "stderr",
     "output_type": "stream",
     "text": [
      "C:\\Users\\balug\\AppData\\Local\\Programs\\Python\\Python37\\lib\\site-packages\\statsmodels\\tsa\\base\\tsa_model.py:595: ValueWarning: A date index has been provided, but it has no associated frequency information and so will be ignored when e.g. forecasting.\n",
      "  ' ignored when e.g. forecasting.', ValueWarning)\n",
      "C:\\Users\\balug\\AppData\\Local\\Programs\\Python\\Python37\\lib\\site-packages\\statsmodels\\tsa\\base\\tsa_model.py:595: ValueWarning: A date index has been provided, but it has no associated frequency information and so will be ignored when e.g. forecasting.\n",
      "  ' ignored when e.g. forecasting.', ValueWarning)\n",
      "C:\\Users\\balug\\AppData\\Local\\Programs\\Python\\Python37\\lib\\site-packages\\statsmodels\\tsa\\base\\tsa_model.py:595: ValueWarning: A date index has been provided, but it has no associated frequency information and so will be ignored when e.g. forecasting.\n",
      "  ' ignored when e.g. forecasting.', ValueWarning)\n"
     ]
    },
    {
     "name": "stdout",
     "output_type": "stream",
     "text": [
      "                               SARIMAX Results                                \n",
      "==============================================================================\n",
      "Dep. Variable:              Adj Close   No. Observations:                 5560\n",
      "Model:                 ARIMA(5, 1, 0)   Log Likelihood               -6751.271\n",
      "Date:                Sun, 06 Feb 2022   AIC                          13514.542\n",
      "Time:                        15:20:24   BIC                          13554.281\n",
      "Sample:                             0   HQIC                         13528.395\n",
      "                               - 5560                                         \n",
      "Covariance Type:                  opg                                         \n",
      "==============================================================================\n",
      "                 coef    std err          z      P>|z|      [0.025      0.975]\n",
      "------------------------------------------------------------------------------\n",
      "ar.L1         -0.0579      0.004    -13.979      0.000      -0.066      -0.050\n",
      "ar.L2          0.0223      0.004      5.670      0.000       0.015       0.030\n",
      "ar.L3         -0.0295      0.005     -6.509      0.000      -0.038      -0.021\n",
      "ar.L4         -0.0219      0.004     -5.047      0.000      -0.030      -0.013\n",
      "ar.L5          0.0177      0.004      4.121      0.000       0.009       0.026\n",
      "sigma2         0.6644      0.003    227.767      0.000       0.659       0.670\n",
      "===================================================================================\n",
      "Ljung-Box (L1) (Q):                   0.01   Jarque-Bera (JB):            306708.27\n",
      "Prob(Q):                              0.93   Prob(JB):                         0.00\n",
      "Heteroskedasticity (H):            2015.78   Skew:                             0.48\n",
      "Prob(H) (two-sided):                  0.00   Kurtosis:                        39.38\n",
      "===================================================================================\n",
      "\n",
      "Warnings:\n",
      "[1] Covariance matrix calculated using the outer product of gradients (complex-step).\n"
     ]
    },
    {
     "data": {
      "image/png": "[encoded data removed]",
      "text/plain": [
       "<Figure size 432x288 with 1 Axes>"
      ]
     },
     "metadata": {
      "needs_background": "light"
     },
     "output_type": "display_data"
    },
    {
     "data": {
      "image/png": "[encoded data removed]",
      "text/plain": [
       "<Figure size 432x288 with 1 Axes>"
      ]
     },
     "metadata": {
      "needs_background": "light"
     },
     "output_type": "display_data"
    },
    {
     "name": "stdout",
     "output_type": "stream",
     "text": [
      "                 0\n",
      "count  5560.000000\n",
      "mean      0.033160\n",
      "std       0.814490\n",
      "min     -10.551362\n",
      "25%      -0.057168\n",
      "50%       0.002022\n",
      "75%       0.094192\n",
      "max      11.036285\n"
     ]
    }
   ],
   "source": [
    "model = ARIMA(data['Adj Close'], order=(5,1,0))\n",
    "model_fit = model.fit()\n",
    "# summary of fit model\n",
    "print(model_fit.summary())\n",
    "# line plot of residuals\n",
    "residuals = DataFrame(model_fit.resid)\n",
    "residuals.plot()\n",
    "pyplot.show()\n",
    "# density plot of residuals\n",
    "residuals.plot(kind='kde')\n",
    "pyplot.show()\n",
    "# summary stats of residuals\n",
    "print(residuals.describe())"
   ]
  },
  {
   "cell_type": "code",
   "execution_count": 6,
   "metadata": {},
   "outputs": [
    {
     "data": {
      "text/html": [
       "<style type=\"text/css\">\n",
       "</style>\n",
       "<table id=\"T_40e52_\">\n",
       "  <thead>\n",
       "    <tr>\n",
       "      <th class=\"blank level0\" >&nbsp;</th>\n",
       "      <th class=\"col_heading level0 col0\" >Description</th>\n",
       "      <th class=\"col_heading level0 col1\" >Value</th>\n",
       "    </tr>\n",
       "  </thead>\n",
       "  <tbody>\n",
       "    <tr>\n",
       "      <th id=\"T_40e52_level0_row0\" class=\"row_heading level0 row0\" >0</th>\n",
       "      <td id=\"T_40e52_row0_col0\" class=\"data row0 col0\" >session_id</td>\n",
       "      <td id=\"T_40e52_row0_col1\" class=\"data row0 col1\" >1220</td>\n",
       "    </tr>\n",
       "    <tr>\n",
       "      <th id=\"T_40e52_level0_row1\" class=\"row_heading level0 row1\" >1</th>\n",
       "      <td id=\"T_40e52_row1_col0\" class=\"data row1 col0\" >Original Data</td>\n",
       "      <td id=\"T_40e52_row1_col1\" class=\"data row1 col1\" >(5560, 7)</td>\n",
       "    </tr>\n",
       "    <tr>\n",
       "      <th id=\"T_40e52_level0_row2\" class=\"row_heading level0 row2\" >2</th>\n",
       "      <td id=\"T_40e52_row2_col0\" class=\"data row2 col0\" >Missing Values</td>\n",
       "      <td id=\"T_40e52_row2_col1\" class=\"data row2 col1\" >False</td>\n",
       "    </tr>\n",
       "    <tr>\n",
       "      <th id=\"T_40e52_level0_row3\" class=\"row_heading level0 row3\" >3</th>\n",
       "      <td id=\"T_40e52_row3_col0\" class=\"data row3 col0\" >Numeric Features</td>\n",
       "      <td id=\"T_40e52_row3_col1\" class=\"data row3 col1\" >4</td>\n",
       "    </tr>\n",
       "    <tr>\n",
       "      <th id=\"T_40e52_level0_row4\" class=\"row_heading level0 row4\" >4</th>\n",
       "      <td id=\"T_40e52_row4_col0\" class=\"data row4 col0\" >Categorical Features</td>\n",
       "      <td id=\"T_40e52_row4_col1\" class=\"data row4 col1\" >3</td>\n",
       "    </tr>\n",
       "    <tr>\n",
       "      <th id=\"T_40e52_level0_row5\" class=\"row_heading level0 row5\" >5</th>\n",
       "      <td id=\"T_40e52_row5_col0\" class=\"data row5 col0\" >Ordinal Features</td>\n",
       "      <td id=\"T_40e52_row5_col1\" class=\"data row5 col1\" >False</td>\n",
       "    </tr>\n",
       "    <tr>\n",
       "      <th id=\"T_40e52_level0_row6\" class=\"row_heading level0 row6\" >6</th>\n",
       "      <td id=\"T_40e52_row6_col0\" class=\"data row6 col0\" >High Cardinality Features</td>\n",
       "      <td id=\"T_40e52_row6_col1\" class=\"data row6 col1\" >False</td>\n",
       "    </tr>\n",
       "    <tr>\n",
       "      <th id=\"T_40e52_level0_row7\" class=\"row_heading level0 row7\" >7</th>\n",
       "      <td id=\"T_40e52_row7_col0\" class=\"data row7 col0\" >High Cardinality Method</td>\n",
       "      <td id=\"T_40e52_row7_col1\" class=\"data row7 col1\" >None</td>\n",
       "    </tr>\n",
       "    <tr>\n",
       "      <th id=\"T_40e52_level0_row8\" class=\"row_heading level0 row8\" >8</th>\n",
       "      <td id=\"T_40e52_row8_col0\" class=\"data row8 col0\" >Transformed Data</td>\n",
       "      <td id=\"T_40e52_row8_col1\" class=\"data row8 col1\" >(5560, 15)</td>\n",
       "    </tr>\n",
       "    <tr>\n",
       "      <th id=\"T_40e52_level0_row9\" class=\"row_heading level0 row9\" >9</th>\n",
       "      <td id=\"T_40e52_row9_col0\" class=\"data row9 col0\" >CPU Jobs</td>\n",
       "      <td id=\"T_40e52_row9_col1\" class=\"data row9 col1\" >-1</td>\n",
       "    </tr>\n",
       "    <tr>\n",
       "      <th id=\"T_40e52_level0_row10\" class=\"row_heading level0 row10\" >10</th>\n",
       "      <td id=\"T_40e52_row10_col0\" class=\"data row10 col0\" >Use GPU</td>\n",
       "      <td id=\"T_40e52_row10_col1\" class=\"data row10 col1\" >False</td>\n",
       "    </tr>\n",
       "    <tr>\n",
       "      <th id=\"T_40e52_level0_row11\" class=\"row_heading level0 row11\" >11</th>\n",
       "      <td id=\"T_40e52_row11_col0\" class=\"data row11 col0\" >Log Experiment</td>\n",
       "      <td id=\"T_40e52_row11_col1\" class=\"data row11 col1\" >False</td>\n",
       "    </tr>\n",
       "    <tr>\n",
       "      <th id=\"T_40e52_level0_row12\" class=\"row_heading level0 row12\" >12</th>\n",
       "      <td id=\"T_40e52_row12_col0\" class=\"data row12 col0\" >Experiment Name</td>\n",
       "      <td id=\"T_40e52_row12_col1\" class=\"data row12 col1\" >anomaly-default-name</td>\n",
       "    </tr>\n",
       "    <tr>\n",
       "      <th id=\"T_40e52_level0_row13\" class=\"row_heading level0 row13\" >13</th>\n",
       "      <td id=\"T_40e52_row13_col0\" class=\"data row13 col0\" >USI</td>\n",
       "      <td id=\"T_40e52_row13_col1\" class=\"data row13 col1\" >0b23</td>\n",
       "    </tr>\n",
       "    <tr>\n",
       "      <th id=\"T_40e52_level0_row14\" class=\"row_heading level0 row14\" >14</th>\n",
       "      <td id=\"T_40e52_row14_col0\" class=\"data row14 col0\" >Imputation Type</td>\n",
       "      <td id=\"T_40e52_row14_col1\" class=\"data row14 col1\" >simple</td>\n",
       "    </tr>\n",
       "    <tr>\n",
       "      <th id=\"T_40e52_level0_row15\" class=\"row_heading level0 row15\" >15</th>\n",
       "      <td id=\"T_40e52_row15_col0\" class=\"data row15 col0\" >Iterative Imputation Iteration</td>\n",
       "      <td id=\"T_40e52_row15_col1\" class=\"data row15 col1\" >None</td>\n",
       "    </tr>\n",
       "    <tr>\n",
       "      <th id=\"T_40e52_level0_row16\" class=\"row_heading level0 row16\" >16</th>\n",
       "      <td id=\"T_40e52_row16_col0\" class=\"data row16 col0\" >Numeric Imputer</td>\n",
       "      <td id=\"T_40e52_row16_col1\" class=\"data row16 col1\" >mean</td>\n",
       "    </tr>\n",
       "    <tr>\n",
       "      <th id=\"T_40e52_level0_row17\" class=\"row_heading level0 row17\" >17</th>\n",
       "      <td id=\"T_40e52_row17_col0\" class=\"data row17 col0\" >Iterative Imputation Numeric Model</td>\n",
       "      <td id=\"T_40e52_row17_col1\" class=\"data row17 col1\" >None</td>\n",
       "    </tr>\n",
       "    <tr>\n",
       "      <th id=\"T_40e52_level0_row18\" class=\"row_heading level0 row18\" >18</th>\n",
       "      <td id=\"T_40e52_row18_col0\" class=\"data row18 col0\" >Categorical Imputer</td>\n",
       "      <td id=\"T_40e52_row18_col1\" class=\"data row18 col1\" >mode</td>\n",
       "    </tr>\n",
       "    <tr>\n",
       "      <th id=\"T_40e52_level0_row19\" class=\"row_heading level0 row19\" >19</th>\n",
       "      <td id=\"T_40e52_row19_col0\" class=\"data row19 col0\" >Iterative Imputation Categorical Model</td>\n",
       "      <td id=\"T_40e52_row19_col1\" class=\"data row19 col1\" >None</td>\n",
       "    </tr>\n",
       "    <tr>\n",
       "      <th id=\"T_40e52_level0_row20\" class=\"row_heading level0 row20\" >20</th>\n",
       "      <td id=\"T_40e52_row20_col0\" class=\"data row20 col0\" >Unknown Categoricals Handling</td>\n",
       "      <td id=\"T_40e52_row20_col1\" class=\"data row20 col1\" >least_frequent</td>\n",
       "    </tr>\n",
       "    <tr>\n",
       "      <th id=\"T_40e52_level0_row21\" class=\"row_heading level0 row21\" >21</th>\n",
       "      <td id=\"T_40e52_row21_col0\" class=\"data row21 col0\" >Normalize</td>\n",
       "      <td id=\"T_40e52_row21_col1\" class=\"data row21 col1\" >False</td>\n",
       "    </tr>\n",
       "    <tr>\n",
       "      <th id=\"T_40e52_level0_row22\" class=\"row_heading level0 row22\" >22</th>\n",
       "      <td id=\"T_40e52_row22_col0\" class=\"data row22 col0\" >Normalize Method</td>\n",
       "      <td id=\"T_40e52_row22_col1\" class=\"data row22 col1\" >None</td>\n",
       "    </tr>\n",
       "    <tr>\n",
       "      <th id=\"T_40e52_level0_row23\" class=\"row_heading level0 row23\" >23</th>\n",
       "      <td id=\"T_40e52_row23_col0\" class=\"data row23 col0\" >Transformation</td>\n",
       "      <td id=\"T_40e52_row23_col1\" class=\"data row23 col1\" >False</td>\n",
       "    </tr>\n",
       "    <tr>\n",
       "      <th id=\"T_40e52_level0_row24\" class=\"row_heading level0 row24\" >24</th>\n",
       "      <td id=\"T_40e52_row24_col0\" class=\"data row24 col0\" >Transformation Method</td>\n",
       "      <td id=\"T_40e52_row24_col1\" class=\"data row24 col1\" >None</td>\n",
       "    </tr>\n",
       "    <tr>\n",
       "      <th id=\"T_40e52_level0_row25\" class=\"row_heading level0 row25\" >25</th>\n",
       "      <td id=\"T_40e52_row25_col0\" class=\"data row25 col0\" >PCA</td>\n",
       "      <td id=\"T_40e52_row25_col1\" class=\"data row25 col1\" >False</td>\n",
       "    </tr>\n",
       "    <tr>\n",
       "      <th id=\"T_40e52_level0_row26\" class=\"row_heading level0 row26\" >26</th>\n",
       "      <td id=\"T_40e52_row26_col0\" class=\"data row26 col0\" >PCA Method</td>\n",
       "      <td id=\"T_40e52_row26_col1\" class=\"data row26 col1\" >None</td>\n",
       "    </tr>\n",
       "    <tr>\n",
       "      <th id=\"T_40e52_level0_row27\" class=\"row_heading level0 row27\" >27</th>\n",
       "      <td id=\"T_40e52_row27_col0\" class=\"data row27 col0\" >PCA Components</td>\n",
       "      <td id=\"T_40e52_row27_col1\" class=\"data row27 col1\" >None</td>\n",
       "    </tr>\n",
       "    <tr>\n",
       "      <th id=\"T_40e52_level0_row28\" class=\"row_heading level0 row28\" >28</th>\n",
       "      <td id=\"T_40e52_row28_col0\" class=\"data row28 col0\" >Ignore Low Variance</td>\n",
       "      <td id=\"T_40e52_row28_col1\" class=\"data row28 col1\" >False</td>\n",
       "    </tr>\n",
       "    <tr>\n",
       "      <th id=\"T_40e52_level0_row29\" class=\"row_heading level0 row29\" >29</th>\n",
       "      <td id=\"T_40e52_row29_col0\" class=\"data row29 col0\" >Combine Rare Levels</td>\n",
       "      <td id=\"T_40e52_row29_col1\" class=\"data row29 col1\" >False</td>\n",
       "    </tr>\n",
       "    <tr>\n",
       "      <th id=\"T_40e52_level0_row30\" class=\"row_heading level0 row30\" >30</th>\n",
       "      <td id=\"T_40e52_row30_col0\" class=\"data row30 col0\" >Rare Level Threshold</td>\n",
       "      <td id=\"T_40e52_row30_col1\" class=\"data row30 col1\" >None</td>\n",
       "    </tr>\n",
       "    <tr>\n",
       "      <th id=\"T_40e52_level0_row31\" class=\"row_heading level0 row31\" >31</th>\n",
       "      <td id=\"T_40e52_row31_col0\" class=\"data row31 col0\" >Numeric Binning</td>\n",
       "      <td id=\"T_40e52_row31_col1\" class=\"data row31 col1\" >False</td>\n",
       "    </tr>\n",
       "    <tr>\n",
       "      <th id=\"T_40e52_level0_row32\" class=\"row_heading level0 row32\" >32</th>\n",
       "      <td id=\"T_40e52_row32_col0\" class=\"data row32 col0\" >Remove Outliers</td>\n",
       "      <td id=\"T_40e52_row32_col1\" class=\"data row32 col1\" >False</td>\n",
       "    </tr>\n",
       "    <tr>\n",
       "      <th id=\"T_40e52_level0_row33\" class=\"row_heading level0 row33\" >33</th>\n",
       "      <td id=\"T_40e52_row33_col0\" class=\"data row33 col0\" >Outliers Threshold</td>\n",
       "      <td id=\"T_40e52_row33_col1\" class=\"data row33 col1\" >None</td>\n",
       "    </tr>\n",
       "    <tr>\n",
       "      <th id=\"T_40e52_level0_row34\" class=\"row_heading level0 row34\" >34</th>\n",
       "      <td id=\"T_40e52_row34_col0\" class=\"data row34 col0\" >Remove Multicollinearity</td>\n",
       "      <td id=\"T_40e52_row34_col1\" class=\"data row34 col1\" >False</td>\n",
       "    </tr>\n",
       "    <tr>\n",
       "      <th id=\"T_40e52_level0_row35\" class=\"row_heading level0 row35\" >35</th>\n",
       "      <td id=\"T_40e52_row35_col0\" class=\"data row35 col0\" >Multicollinearity Threshold</td>\n",
       "      <td id=\"T_40e52_row35_col1\" class=\"data row35 col1\" >None</td>\n",
       "    </tr>\n",
       "    <tr>\n",
       "      <th id=\"T_40e52_level0_row36\" class=\"row_heading level0 row36\" >36</th>\n",
       "      <td id=\"T_40e52_row36_col0\" class=\"data row36 col0\" >Remove Perfect Collinearity</td>\n",
       "      <td id=\"T_40e52_row36_col1\" class=\"data row36 col1\" >False</td>\n",
       "    </tr>\n",
       "    <tr>\n",
       "      <th id=\"T_40e52_level0_row37\" class=\"row_heading level0 row37\" >37</th>\n",
       "      <td id=\"T_40e52_row37_col0\" class=\"data row37 col0\" >Clustering</td>\n",
       "      <td id=\"T_40e52_row37_col1\" class=\"data row37 col1\" >False</td>\n",
       "    </tr>\n",
       "    <tr>\n",
       "      <th id=\"T_40e52_level0_row38\" class=\"row_heading level0 row38\" >38</th>\n",
       "      <td id=\"T_40e52_row38_col0\" class=\"data row38 col0\" >Clustering Iteration</td>\n",
       "      <td id=\"T_40e52_row38_col1\" class=\"data row38 col1\" >None</td>\n",
       "    </tr>\n",
       "    <tr>\n",
       "      <th id=\"T_40e52_level0_row39\" class=\"row_heading level0 row39\" >39</th>\n",
       "      <td id=\"T_40e52_row39_col0\" class=\"data row39 col0\" >Polynomial Features</td>\n",
       "      <td id=\"T_40e52_row39_col1\" class=\"data row39 col1\" >False</td>\n",
       "    </tr>\n",
       "    <tr>\n",
       "      <th id=\"T_40e52_level0_row40\" class=\"row_heading level0 row40\" >40</th>\n",
       "      <td id=\"T_40e52_row40_col0\" class=\"data row40 col0\" >Polynomial Degree</td>\n",
       "      <td id=\"T_40e52_row40_col1\" class=\"data row40 col1\" >None</td>\n",
       "    </tr>\n",
       "    <tr>\n",
       "      <th id=\"T_40e52_level0_row41\" class=\"row_heading level0 row41\" >41</th>\n",
       "      <td id=\"T_40e52_row41_col0\" class=\"data row41 col0\" >Trignometry Features</td>\n",
       "      <td id=\"T_40e52_row41_col1\" class=\"data row41 col1\" >False</td>\n",
       "    </tr>\n",
       "    <tr>\n",
       "      <th id=\"T_40e52_level0_row42\" class=\"row_heading level0 row42\" >42</th>\n",
       "      <td id=\"T_40e52_row42_col0\" class=\"data row42 col0\" >Polynomial Threshold</td>\n",
       "      <td id=\"T_40e52_row42_col1\" class=\"data row42 col1\" >None</td>\n",
       "    </tr>\n",
       "    <tr>\n",
       "      <th id=\"T_40e52_level0_row43\" class=\"row_heading level0 row43\" >43</th>\n",
       "      <td id=\"T_40e52_row43_col0\" class=\"data row43 col0\" >Group Features</td>\n",
       "      <td id=\"T_40e52_row43_col1\" class=\"data row43 col1\" >False</td>\n",
       "    </tr>\n",
       "    <tr>\n",
       "      <th id=\"T_40e52_level0_row44\" class=\"row_heading level0 row44\" >44</th>\n",
       "      <td id=\"T_40e52_row44_col0\" class=\"data row44 col0\" >Feature Selection</td>\n",
       "      <td id=\"T_40e52_row44_col1\" class=\"data row44 col1\" >False</td>\n",
       "    </tr>\n",
       "    <tr>\n",
       "      <th id=\"T_40e52_level0_row45\" class=\"row_heading level0 row45\" >45</th>\n",
       "      <td id=\"T_40e52_row45_col0\" class=\"data row45 col0\" >Feature Selection Method</td>\n",
       "      <td id=\"T_40e52_row45_col1\" class=\"data row45 col1\" >classic</td>\n",
       "    </tr>\n",
       "    <tr>\n",
       "      <th id=\"T_40e52_level0_row46\" class=\"row_heading level0 row46\" >46</th>\n",
       "      <td id=\"T_40e52_row46_col0\" class=\"data row46 col0\" >Features Selection Threshold</td>\n",
       "      <td id=\"T_40e52_row46_col1\" class=\"data row46 col1\" >None</td>\n",
       "    </tr>\n",
       "    <tr>\n",
       "      <th id=\"T_40e52_level0_row47\" class=\"row_heading level0 row47\" >47</th>\n",
       "      <td id=\"T_40e52_row47_col0\" class=\"data row47 col0\" >Feature Interaction</td>\n",
       "      <td id=\"T_40e52_row47_col1\" class=\"data row47 col1\" >False</td>\n",
       "    </tr>\n",
       "    <tr>\n",
       "      <th id=\"T_40e52_level0_row48\" class=\"row_heading level0 row48\" >48</th>\n",
       "      <td id=\"T_40e52_row48_col0\" class=\"data row48 col0\" >Feature Ratio</td>\n",
       "      <td id=\"T_40e52_row48_col1\" class=\"data row48 col1\" >False</td>\n",
       "    </tr>\n",
       "    <tr>\n",
       "      <th id=\"T_40e52_level0_row49\" class=\"row_heading level0 row49\" >49</th>\n",
       "      <td id=\"T_40e52_row49_col0\" class=\"data row49 col0\" >Interaction Threshold</td>\n",
       "      <td id=\"T_40e52_row49_col1\" class=\"data row49 col1\" >None</td>\n",
       "    </tr>\n",
       "  </tbody>\n",
       "</table>\n"
      ],
      "text/plain": [
       "<pandas.io.formats.style.Styler at 0x23031ac67b8>"
      ]
     },
     "metadata": {},
     "output_type": "display_data"
    }
   ],
   "source": [
    "from pycaret.anomaly import *\n",
    "s = setup(data,silent=True,n_jobs=-1)"
   ]
  },
  {
   "cell_type": "code",
   "execution_count": 21,
   "metadata": {},
   "outputs": [
    {
     "data": {
      "text/plain": [
       "['abod',\n",
       " 'cluster',\n",
       " 'cof',\n",
       " 'iforest',\n",
       " 'histogram',\n",
       " 'knn',\n",
       " 'lof',\n",
       " 'svm',\n",
       " 'pca',\n",
       " 'mcd',\n",
       " 'sod',\n",
       " 'sos']"
      ]
     },
     "execution_count": 21,
     "metadata": {},
     "output_type": "execute_result"
    }
   ],
   "source": [
    "models().index.tolist()"
   ]
  },
  {
   "cell_type": "code",
   "execution_count": 22,
   "metadata": {},
   "outputs": [
    {
     "data": {
      "text/html": [
       "<div>\n",
       "<style scoped>\n",
       "    .dataframe tbody tr th:only-of-type {\n",
       "        vertical-align: middle;\n",
       "    }\n",
       "\n",
       "    .dataframe tbody tr th {\n",
       "        vertical-align: top;\n",
       "    }\n",
       "\n",
       "    .dataframe thead th {\n",
       "        text-align: right;\n",
       "    }\n",
       "</style>\n",
       "<table border=\"1\" class=\"dataframe\">\n",
       "  <thead>\n",
       "    <tr style=\"text-align: right;\">\n",
       "      <th></th>\n",
       "      <th>Adj Close</th>\n",
       "      <th>day</th>\n",
       "      <th>day_name</th>\n",
       "      <th>day_of_year</th>\n",
       "      <th>week_of_year</th>\n",
       "      <th>hour</th>\n",
       "      <th>is_weekday</th>\n",
       "      <th>Anomaly</th>\n",
       "      <th>Anomaly_Score</th>\n",
       "    </tr>\n",
       "    <tr>\n",
       "      <th>Date</th>\n",
       "      <th></th>\n",
       "      <th></th>\n",
       "      <th></th>\n",
       "      <th></th>\n",
       "      <th></th>\n",
       "      <th></th>\n",
       "      <th></th>\n",
       "      <th></th>\n",
       "      <th></th>\n",
       "    </tr>\n",
       "  </thead>\n",
       "  <tbody>\n",
       "    <tr>\n",
       "      <th>2022-01-03</th>\n",
       "      <td>181.778397</td>\n",
       "      <td>3</td>\n",
       "      <td>Monday</td>\n",
       "      <td>3</td>\n",
       "      <td>1</td>\n",
       "      <td>0</td>\n",
       "      <td>1</td>\n",
       "      <td>1</td>\n",
       "      <td>0.025488</td>\n",
       "    </tr>\n",
       "    <tr>\n",
       "      <th>2022-01-04</th>\n",
       "      <td>179.471344</td>\n",
       "      <td>4</td>\n",
       "      <td>Tuesday</td>\n",
       "      <td>4</td>\n",
       "      <td>1</td>\n",
       "      <td>0</td>\n",
       "      <td>2</td>\n",
       "      <td>0</td>\n",
       "      <td>-0.014538</td>\n",
       "    </tr>\n",
       "    <tr>\n",
       "      <th>2022-01-05</th>\n",
       "      <td>174.697418</td>\n",
       "      <td>5</td>\n",
       "      <td>Wednesday</td>\n",
       "      <td>5</td>\n",
       "      <td>1</td>\n",
       "      <td>0</td>\n",
       "      <td>3</td>\n",
       "      <td>0</td>\n",
       "      <td>-0.020794</td>\n",
       "    </tr>\n",
       "    <tr>\n",
       "      <th>2022-01-06</th>\n",
       "      <td>171.781143</td>\n",
       "      <td>6</td>\n",
       "      <td>Thursday</td>\n",
       "      <td>6</td>\n",
       "      <td>1</td>\n",
       "      <td>0</td>\n",
       "      <td>4</td>\n",
       "      <td>0</td>\n",
       "      <td>-0.023553</td>\n",
       "    </tr>\n",
       "    <tr>\n",
       "      <th>2022-01-07</th>\n",
       "      <td>171.950928</td>\n",
       "      <td>7</td>\n",
       "      <td>Friday</td>\n",
       "      <td>7</td>\n",
       "      <td>1</td>\n",
       "      <td>0</td>\n",
       "      <td>5</td>\n",
       "      <td>0</td>\n",
       "      <td>-0.030819</td>\n",
       "    </tr>\n",
       "  </tbody>\n",
       "</table>\n",
       "</div>"
      ],
      "text/plain": [
       "             Adj Close  day   day_name  day_of_year  week_of_year  hour  \\\n",
       "Date                                                                      \n",
       "2022-01-03  181.778397    3     Monday            3             1     0   \n",
       "2022-01-04  179.471344    4    Tuesday            4             1     0   \n",
       "2022-01-05  174.697418    5  Wednesday            5             1     0   \n",
       "2022-01-06  171.781143    6   Thursday            6             1     0   \n",
       "2022-01-07  171.950928    7     Friday            7             1     0   \n",
       "\n",
       "            is_weekday  Anomaly  Anomaly_Score  \n",
       "Date                                            \n",
       "2022-01-03           1        1       0.025488  \n",
       "2022-01-04           2        0      -0.014538  \n",
       "2022-01-05           3        0      -0.020794  \n",
       "2022-01-06           4        0      -0.023553  \n",
       "2022-01-07           5        0      -0.030819  "
      ]
     },
     "execution_count": 22,
     "metadata": {},
     "output_type": "execute_result"
    }
   ],
   "source": [
    "iforest = create_model('iforest', fraction = 0.1)\n",
    "iforest_results = assign_model(iforest)\n",
    "iforest_results.head()"
   ]
  },
  {
   "cell_type": "code",
   "execution_count": 26,
   "metadata": {},
   "outputs": [],
   "source": [
    "%matplotlib inline\n",
    "%config InlineBackend.figure_format = 'svg'"
   ]
  },
  {
   "cell_type": "code",
   "execution_count": 27,
   "metadata": {},
   "outputs": [
    {
     "data": {
      "application/vnd.jupyter.widget-view+json": {
       "model_id": "9e33cdb55e024b40988350a4c2d1353e",
       "version_major": 2,
       "version_minor": 0
      },
      "text/plain": [
       "interactive(children=(ToggleButtons(description='Plot Type:', icons=('',), options=(('Anomaly TSnE (3d)', 'tsn…"
      ]
     },
     "metadata": {},
     "output_type": "display_data"
    }
   ],
   "source": [
    "evaluate_model(iforest);"
   ]
  },
  {
   "cell_type": "code",
   "execution_count": 24,
   "metadata": {},
   "outputs": [
    {
     "data": {
      "text/html": [
       "<div>\n",
       "<style scoped>\n",
       "    .dataframe tbody tr th:only-of-type {\n",
       "        vertical-align: middle;\n",
       "    }\n",
       "\n",
       "    .dataframe tbody tr th {\n",
       "        vertical-align: top;\n",
       "    }\n",
       "\n",
       "    .dataframe thead th {\n",
       "        text-align: right;\n",
       "    }\n",
       "</style>\n",
       "<table border=\"1\" class=\"dataframe\">\n",
       "  <thead>\n",
       "    <tr style=\"text-align: right;\">\n",
       "      <th></th>\n",
       "      <th>Adj Close</th>\n",
       "      <th>day</th>\n",
       "      <th>day_name</th>\n",
       "      <th>day_of_year</th>\n",
       "      <th>week_of_year</th>\n",
       "      <th>hour</th>\n",
       "      <th>is_weekday</th>\n",
       "      <th>Anomaly</th>\n",
       "      <th>Anomaly_Score</th>\n",
       "    </tr>\n",
       "    <tr>\n",
       "      <th>Date</th>\n",
       "      <th></th>\n",
       "      <th></th>\n",
       "      <th></th>\n",
       "      <th></th>\n",
       "      <th></th>\n",
       "      <th></th>\n",
       "      <th></th>\n",
       "      <th></th>\n",
       "      <th></th>\n",
       "    </tr>\n",
       "  </thead>\n",
       "  <tbody>\n",
       "    <tr>\n",
       "      <th>2022-01-03</th>\n",
       "      <td>181.778397</td>\n",
       "      <td>3</td>\n",
       "      <td>Monday</td>\n",
       "      <td>3</td>\n",
       "      <td>1</td>\n",
       "      <td>0</td>\n",
       "      <td>1</td>\n",
       "      <td>1</td>\n",
       "      <td>0.025488</td>\n",
       "    </tr>\n",
       "    <tr>\n",
       "      <th>2022-01-24</th>\n",
       "      <td>161.414337</td>\n",
       "      <td>24</td>\n",
       "      <td>Monday</td>\n",
       "      <td>24</td>\n",
       "      <td>4</td>\n",
       "      <td>0</td>\n",
       "      <td>1</td>\n",
       "      <td>1</td>\n",
       "      <td>0.003627</td>\n",
       "    </tr>\n",
       "    <tr>\n",
       "      <th>2022-01-31</th>\n",
       "      <td>174.557602</td>\n",
       "      <td>31</td>\n",
       "      <td>Monday</td>\n",
       "      <td>31</td>\n",
       "      <td>5</td>\n",
       "      <td>0</td>\n",
       "      <td>1</td>\n",
       "      <td>1</td>\n",
       "      <td>0.016194</td>\n",
       "    </tr>\n",
       "  </tbody>\n",
       "</table>\n",
       "</div>"
      ],
      "text/plain": [
       "             Adj Close  day day_name  day_of_year  week_of_year  hour  \\\n",
       "Date                                                                    \n",
       "2022-01-03  181.778397    3   Monday            3             1     0   \n",
       "2022-01-24  161.414337   24   Monday           24             4     0   \n",
       "2022-01-31  174.557602   31   Monday           31             5     0   \n",
       "\n",
       "            is_weekday  Anomaly  Anomaly_Score  \n",
       "Date                                            \n",
       "2022-01-03           1        1       0.025488  \n",
       "2022-01-24           1        1       0.003627  \n",
       "2022-01-31           1        1       0.016194  "
      ]
     },
     "execution_count": 24,
     "metadata": {},
     "output_type": "execute_result"
    }
   ],
   "source": [
    "iforest_results[iforest_results['Anomaly'] == 1].head()\n"
   ]
  },
  {
   "cell_type": "code",
   "execution_count": 25,
   "metadata": {},
   "outputs": [
    {
     "data": {
      "application/vnd.plotly.v1+json": {
       "config": {
        "plotlyServerURL": "https://plot.ly"
       },
       "data": [
        {
         "hovertemplate": "Date=%{x}<br>Adj Close=%{y}<extra></extra>",
         "legendgroup": "",
         "line": {
          "color": "#636efa",
          "dash": "solid"
         },
         "marker": {
          "symbol": "circle"
         },
         "mode": "lines",
         "name": "",
         "orientation": "v",
         "showlegend": false,
         "type": "scatter",
         "x": [
          "2022-01-03T00:00:00",
          "2022-01-04T00:00:00",
          "2022-01-05T00:00:00",
          "2022-01-06T00:00:00",
          "2022-01-07T00:00:00",
          "2022-01-10T00:00:00",
          "2022-01-11T00:00:00",
          "2022-01-12T00:00:00",
          "2022-01-13T00:00:00",
          "2022-01-14T00:00:00",
          "2022-01-18T00:00:00",
          "2022-01-19T00:00:00",
          "2022-01-20T00:00:00",
          "2022-01-21T00:00:00",
          "2022-01-24T00:00:00",
          "2022-01-25T00:00:00",
          "2022-01-26T00:00:00",
          "2022-01-27T00:00:00",
          "2022-01-28T00:00:00",
          "2022-01-31T00:00:00",
          "2022-02-01T00:00:00",
          "2022-02-02T00:00:00",
          "2022-02-03T00:00:00",
          "2022-02-04T00:00:00"
         ],
         "xaxis": "x",
         "y": [
          181.7783966064453,
          179.47134399414062,
          174.69741821289062,
          171.78114318847656,
          171.950927734375,
          171.9709014892578,
          174.8572235107422,
          175.306640625,
          171.9709014892578,
          172.84979248046875,
          169.5839385986328,
          166.0184783935547,
          164.3006591796875,
          162.20335388183594,
          161.41433715820312,
          159.57669067382812,
          159.48680114746094,
          159.0174102783203,
          170.11326599121094,
          174.55760192871094,
          174.3878173828125,
          175.6162567138672,
          172.67999267578125,
          172.38999938964844
         ],
         "yaxis": "y"
        },
        {
         "marker": {
          "color": "red",
          "size": 10
         },
         "mode": "markers",
         "name": "Anomaly",
         "type": "scatter",
         "x": [
          "2022-01-03T00:00:00",
          "2022-01-24T00:00:00",
          "2022-01-31T00:00:00"
         ],
         "y": [
          181.7783966064453,
          161.41433715820312,
          174.55760192871094
         ]
        }
       ],
       "layout": {
        "legend": {
         "tracegroupgap": 0
        },
        "template": {
         "data": {
          "bar": [
           {
            "error_x": {
             "color": "#f2f5fa"
            },
            "error_y": {
             "color": "#f2f5fa"
            },
            "marker": {
             "line": {
              "color": "rgb(17,17,17)",
              "width": 0.5
             },
             "pattern": {
              "fillmode": "overlay",
              "size": 10,
              "solidity": 0.2
             }
            },
            "type": "bar"
           }
          ],
          "barpolar": [
           {
            "marker": {
             "line": {
              "color": "rgb(17,17,17)",
              "width": 0.5
             },
             "pattern": {
              "fillmode": "overlay",
              "size": 10,
              "solidity": 0.2
             }
            },
            "type": "barpolar"
           }
          ],
          "carpet": [
           {
            "aaxis": {
             "endlinecolor": "#A2B1C6",
             "gridcolor": "#506784",
             "linecolor": "#506784",
             "minorgridcolor": "#506784",
             "startlinecolor": "#A2B1C6"
            },
            "baxis": {
             "endlinecolor": "#A2B1C6",
             "gridcolor": "#506784",
             "linecolor": "#506784",
             "minorgridcolor": "#506784",
             "startlinecolor": "#A2B1C6"
            },
            "type": "carpet"
           }
          ],
          "choropleth": [
           {
            "colorbar": {
             "outlinewidth": 0,
             "ticks": ""
            },
            "type": "choropleth"
           }
          ],
          "contour": [
           {
            "colorbar": {
             "outlinewidth": 0,
             "ticks": ""
            },
            "colorscale": [
             [
              0,
              "#0d0887"
             ],
             [
              0.1111111111111111,
              "#46039f"
             ],
             [
              0.2222222222222222,
              "#7201a8"
             ],
             [
              0.3333333333333333,
              "#9c179e"
             ],
             [
              0.4444444444444444,
              "#bd3786"
             ],
             [
              0.5555555555555556,
              "#d8576b"
             ],
             [
              0.6666666666666666,
              "#ed7953"
             ],
             [
              0.7777777777777778,
              "#fb9f3a"
             ],
             [
              0.8888888888888888,
              "#fdca26"
             ],
             [
              1,
              "#f0f921"
             ]
            ],
            "type": "contour"
           }
          ],
          "contourcarpet": [
           {
            "colorbar": {
             "outlinewidth": 0,
             "ticks": ""
            },
            "type": "contourcarpet"
           }
          ],
          "heatmap": [
           {
            "colorbar": {
             "outlinewidth": 0,
             "ticks": ""
            },
            "colorscale": [
             [
              0,
              "#0d0887"
             ],
             [
              0.1111111111111111,
              "#46039f"
             ],
             [
              0.2222222222222222,
              "#7201a8"
             ],
             [
              0.3333333333333333,
              "#9c179e"
             ],
             [
              0.4444444444444444,
              "#bd3786"
             ],
             [
              0.5555555555555556,
              "#d8576b"
             ],
             [
              0.6666666666666666,
              "#ed7953"
             ],
             [
              0.7777777777777778,
              "#fb9f3a"
             ],
             [
              0.8888888888888888,
              "#fdca26"
             ],
             [
              1,
              "#f0f921"
             ]
            ],
            "type": "heatmap"
           }
          ],
          "heatmapgl": [
           {
            "colorbar": {
             "outlinewidth": 0,
             "ticks": ""
            },
            "colorscale": [
             [
              0,
              "#0d0887"
             ],
             [
              0.1111111111111111,
              "#46039f"
             ],
             [
              0.2222222222222222,
              "#7201a8"
             ],
             [
              0.3333333333333333,
              "#9c179e"
             ],
             [
              0.4444444444444444,
              "#bd3786"
             ],
             [
              0.5555555555555556,
              "#d8576b"
             ],
             [
              0.6666666666666666,
              "#ed7953"
             ],
             [
              0.7777777777777778,
              "#fb9f3a"
             ],
             [
              0.8888888888888888,
              "#fdca26"
             ],
             [
              1,
              "#f0f921"
             ]
            ],
            "type": "heatmapgl"
           }
          ],
          "histogram": [
           {
            "marker": {
             "pattern": {
              "fillmode": "overlay",
              "size": 10,
              "solidity": 0.2
             }
            },
            "type": "histogram"
           }
          ],
          "histogram2d": [
           {
            "colorbar": {
             "outlinewidth": 0,
             "ticks": ""
            },
            "colorscale": [
             [
              0,
              "#0d0887"
             ],
             [
              0.1111111111111111,
              "#46039f"
             ],
             [
              0.2222222222222222,
              "#7201a8"
             ],
             [
              0.3333333333333333,
              "#9c179e"
             ],
             [
              0.4444444444444444,
              "#bd3786"
             ],
             [
              0.5555555555555556,
              "#d8576b"
             ],
             [
              0.6666666666666666,
              "#ed7953"
             ],
             [
              0.7777777777777778,
              "#fb9f3a"
             ],
             [
              0.8888888888888888,
              "#fdca26"
             ],
             [
              1,
              "#f0f921"
             ]
            ],
            "type": "histogram2d"
           }
          ],
          "histogram2dcontour": [
           {
            "colorbar": {
             "outlinewidth": 0,
             "ticks": ""
            },
            "colorscale": [
             [
              0,
              "#0d0887"
             ],
             [
              0.1111111111111111,
              "#46039f"
             ],
             [
              0.2222222222222222,
              "#7201a8"
             ],
             [
              0.3333333333333333,
              "#9c179e"
             ],
             [
              0.4444444444444444,
              "#bd3786"
             ],
             [
              0.5555555555555556,
              "#d8576b"
             ],
             [
              0.6666666666666666,
              "#ed7953"
             ],
             [
              0.7777777777777778,
              "#fb9f3a"
             ],
             [
              0.8888888888888888,
              "#fdca26"
             ],
             [
              1,
              "#f0f921"
             ]
            ],
            "type": "histogram2dcontour"
           }
          ],
          "mesh3d": [
           {
            "colorbar": {
             "outlinewidth": 0,
             "ticks": ""
            },
            "type": "mesh3d"
           }
          ],
          "parcoords": [
           {
            "line": {
             "colorbar": {
              "outlinewidth": 0,
              "ticks": ""
             }
            },
            "type": "parcoords"
           }
          ],
          "pie": [
           {
            "automargin": true,
            "type": "pie"
           }
          ],
          "scatter": [
           {
            "marker": {
             "line": {
              "color": "#283442"
             }
            },
            "type": "scatter"
           }
          ],
          "scatter3d": [
           {
            "line": {
             "colorbar": {
              "outlinewidth": 0,
              "ticks": ""
             }
            },
            "marker": {
             "colorbar": {
              "outlinewidth": 0,
              "ticks": ""
             }
            },
            "type": "scatter3d"
           }
          ],
          "scattercarpet": [
           {
            "marker": {
             "colorbar": {
              "outlinewidth": 0,
              "ticks": ""
             }
            },
            "type": "scattercarpet"
           }
          ],
          "scattergeo": [
           {
            "marker": {
             "colorbar": {
              "outlinewidth": 0,
              "ticks": ""
             }
            },
            "type": "scattergeo"
           }
          ],
          "scattergl": [
           {
            "marker": {
             "line": {
              "color": "#283442"
             }
            },
            "type": "scattergl"
           }
          ],
          "scattermapbox": [
           {
            "marker": {
             "colorbar": {
              "outlinewidth": 0,
              "ticks": ""
             }
            },
            "type": "scattermapbox"
           }
          ],
          "scatterpolar": [
           {
            "marker": {
             "colorbar": {
              "outlinewidth": 0,
              "ticks": ""
             }
            },
            "type": "scatterpolar"
           }
          ],
          "scatterpolargl": [
           {
            "marker": {
             "colorbar": {
              "outlinewidth": 0,
              "ticks": ""
             }
            },
            "type": "scatterpolargl"
           }
          ],
          "scatterternary": [
           {
            "marker": {
             "colorbar": {
              "outlinewidth": 0,
              "ticks": ""
             }
            },
            "type": "scatterternary"
           }
          ],
          "surface": [
           {
            "colorbar": {
             "outlinewidth": 0,
             "ticks": ""
            },
            "colorscale": [
             [
              0,
              "#0d0887"
             ],
             [
              0.1111111111111111,
              "#46039f"
             ],
             [
              0.2222222222222222,
              "#7201a8"
             ],
             [
              0.3333333333333333,
              "#9c179e"
             ],
             [
              0.4444444444444444,
              "#bd3786"
             ],
             [
              0.5555555555555556,
              "#d8576b"
             ],
             [
              0.6666666666666666,
              "#ed7953"
             ],
             [
              0.7777777777777778,
              "#fb9f3a"
             ],
             [
              0.8888888888888888,
              "#fdca26"
             ],
             [
              1,
              "#f0f921"
             ]
            ],
            "type": "surface"
           }
          ],
          "table": [
           {
            "cells": {
             "fill": {
              "color": "#506784"
             },
             "line": {
              "color": "rgb(17,17,17)"
             }
            },
            "header": {
             "fill": {
              "color": "#2a3f5f"
             },
             "line": {
              "color": "rgb(17,17,17)"
             }
            },
            "type": "table"
           }
          ]
         },
         "layout": {
          "annotationdefaults": {
           "arrowcolor": "#f2f5fa",
           "arrowhead": 0,
           "arrowwidth": 1
          },
          "autotypenumbers": "strict",
          "coloraxis": {
           "colorbar": {
            "outlinewidth": 0,
            "ticks": ""
           }
          },
          "colorscale": {
           "diverging": [
            [
             0,
             "#8e0152"
            ],
            [
             0.1,
             "#c51b7d"
            ],
            [
             0.2,
             "#de77ae"
            ],
            [
             0.3,
             "#f1b6da"
            ],
            [
             0.4,
             "#fde0ef"
            ],
            [
             0.5,
             "#f7f7f7"
            ],
            [
             0.6,
             "#e6f5d0"
            ],
            [
             0.7,
             "#b8e186"
            ],
            [
             0.8,
             "#7fbc41"
            ],
            [
             0.9,
             "#4d9221"
            ],
            [
             1,
             "#276419"
            ]
           ],
           "sequential": [
            [
             0,
             "#0d0887"
            ],
            [
             0.1111111111111111,
             "#46039f"
            ],
            [
             0.2222222222222222,
             "#7201a8"
            ],
            [
             0.3333333333333333,
             "#9c179e"
            ],
            [
             0.4444444444444444,
             "#bd3786"
            ],
            [
             0.5555555555555556,
             "#d8576b"
            ],
            [
             0.6666666666666666,
             "#ed7953"
            ],
            [
             0.7777777777777778,
             "#fb9f3a"
            ],
            [
             0.8888888888888888,
             "#fdca26"
            ],
            [
             1,
             "#f0f921"
            ]
           ],
           "sequentialminus": [
            [
             0,
             "#0d0887"
            ],
            [
             0.1111111111111111,
             "#46039f"
            ],
            [
             0.2222222222222222,
             "#7201a8"
            ],
            [
             0.3333333333333333,
             "#9c179e"
            ],
            [
             0.4444444444444444,
             "#bd3786"
            ],
            [
             0.5555555555555556,
             "#d8576b"
            ],
            [
             0.6666666666666666,
             "#ed7953"
            ],
            [
             0.7777777777777778,
             "#fb9f3a"
            ],
            [
             0.8888888888888888,
             "#fdca26"
            ],
            [
             1,
             "#f0f921"
            ]
           ]
          },
          "colorway": [
           "#636efa",
           "#EF553B",
           "#00cc96",
           "#ab63fa",
           "#FFA15A",
           "#19d3f3",
           "#FF6692",
           "#B6E880",
           "#FF97FF",
           "#FECB52"
          ],
          "font": {
           "color": "#f2f5fa"
          },
          "geo": {
           "bgcolor": "rgb(17,17,17)",
           "lakecolor": "rgb(17,17,17)",
           "landcolor": "rgb(17,17,17)",
           "showlakes": true,
           "showland": true,
           "subunitcolor": "#506784"
          },
          "hoverlabel": {
           "align": "left"
          },
          "hovermode": "closest",
          "mapbox": {
           "style": "dark"
          },
          "paper_bgcolor": "rgb(17,17,17)",
          "plot_bgcolor": "rgb(17,17,17)",
          "polar": {
           "angularaxis": {
            "gridcolor": "#506784",
            "linecolor": "#506784",
            "ticks": ""
           },
           "bgcolor": "rgb(17,17,17)",
           "radialaxis": {
            "gridcolor": "#506784",
            "linecolor": "#506784",
            "ticks": ""
           }
          },
          "scene": {
           "xaxis": {
            "backgroundcolor": "rgb(17,17,17)",
            "gridcolor": "#506784",
            "gridwidth": 2,
            "linecolor": "#506784",
            "showbackground": true,
            "ticks": "",
            "zerolinecolor": "#C8D4E3"
           },
           "yaxis": {
            "backgroundcolor": "rgb(17,17,17)",
            "gridcolor": "#506784",
            "gridwidth": 2,
            "linecolor": "#506784",
            "showbackground": true,
            "ticks": "",
            "zerolinecolor": "#C8D4E3"
           },
           "zaxis": {
            "backgroundcolor": "rgb(17,17,17)",
            "gridcolor": "#506784",
            "gridwidth": 2,
            "linecolor": "#506784",
            "showbackground": true,
            "ticks": "",
            "zerolinecolor": "#C8D4E3"
           }
          },
          "shapedefaults": {
           "line": {
            "color": "#f2f5fa"
           }
          },
          "sliderdefaults": {
           "bgcolor": "#C8D4E3",
           "bordercolor": "rgb(17,17,17)",
           "borderwidth": 1,
           "tickwidth": 0
          },
          "ternary": {
           "aaxis": {
            "gridcolor": "#506784",
            "linecolor": "#506784",
            "ticks": ""
           },
           "baxis": {
            "gridcolor": "#506784",
            "linecolor": "#506784",
            "ticks": ""
           },
           "bgcolor": "rgb(17,17,17)",
           "caxis": {
            "gridcolor": "#506784",
            "linecolor": "#506784",
            "ticks": ""
           }
          },
          "title": {
           "x": 0.05
          },
          "updatemenudefaults": {
           "bgcolor": "#506784",
           "borderwidth": 0
          },
          "xaxis": {
           "automargin": true,
           "gridcolor": "#283442",
           "linecolor": "#506784",
           "ticks": "",
           "title": {
            "standoff": 15
           },
           "zerolinecolor": "#283442",
           "zerolinewidth": 2
          },
          "yaxis": {
           "automargin": true,
           "gridcolor": "#283442",
           "linecolor": "#506784",
           "ticks": "",
           "title": {
            "standoff": 15
           },
           "zerolinecolor": "#283442",
           "zerolinewidth": 2
          }
         }
        },
        "title": {
         "text": "NYC TAXI TRIPS - UNSUPERVISED ANOMALY DETECTION"
        },
        "xaxis": {
         "anchor": "y",
         "domain": [
          0,
          1
         ],
         "title": {
          "text": "Date"
         }
        },
        "yaxis": {
         "anchor": "x",
         "domain": [
          0,
          1
         ],
         "title": {
          "text": "Adj Close"
         }
        }
       }
      }
     },
     "metadata": {},
     "output_type": "display_data"
    }
   ],
   "source": [
    "import plotly.express as px\n",
    "import plotly.graph_objects as go\n",
    "fig = px.line(iforest_results, x=iforest_results.index, y=\"Adj Close\", title='NYC TAXI TRIPS - UNSUPERVISED ANOMALY DETECTION', template = 'plotly_dark')\n",
    "# create list of outlier_dates\n",
    "outlier_dates = iforest_results[iforest_results['Anomaly'] == 1].index\n",
    "# obtain y value of anomalies to plot\n",
    "y_values = [iforest_results.loc[i]['Adj Close'] for i in outlier_dates]\n",
    "fig.add_trace(go.Scatter(x=outlier_dates, y=y_values, mode = 'markers', \n",
    "                name = 'Anomaly', \n",
    "                marker=dict(color='red',size=10)))\n",
    "        \n",
    "fig.show()"
   ]
  },
  {
   "cell_type": "code",
   "execution_count": 7,
   "metadata": {},
   "outputs": [
    {
     "ename": "NameError",
     "evalue": "name 'st' is not defined",
     "output_type": "error",
     "traceback": [
      "\u001b[1;31m---------------------------------------------------------------------------\u001b[0m",
      "\u001b[1;31mNameError\u001b[0m                                 Traceback (most recent call last)",
      "\u001b[1;32m<ipython-input-7-321d6548b9d0>\u001b[0m in \u001b[0;36m<module>\u001b[1;34m\u001b[0m\n\u001b[1;32m----> 1\u001b[1;33m app_mode = st.sidebar.selectbox(\"Choose the app mode\",\n\u001b[0m\u001b[0;32m      2\u001b[0m \u001b[1;33m[\u001b[0m\u001b[1;34m\"Home Page\"\u001b[0m\u001b[1;33m,\u001b[0m\u001b[1;34m\"Forecasting\"\u001b[0m\u001b[1;33m,\u001b[0m \u001b[1;34m\"Anomaly Detection\"\u001b[0m\u001b[1;33m,\u001b[0m\u001b[1;34m\"About\"\u001b[0m\u001b[1;33m]\u001b[0m\u001b[1;33m,\u001b[0m\u001b[1;33m\u001b[0m\u001b[1;33m\u001b[0m\u001b[0m\n\u001b[0;32m      3\u001b[0m help=\"Select the page\",index=0)\n\u001b[0;32m      4\u001b[0m \u001b[1;33m\u001b[0m\u001b[0m\n\u001b[0;32m      5\u001b[0m \u001b[1;32mif\u001b[0m \u001b[0mapp_mode\u001b[0m \u001b[1;33m==\u001b[0m \u001b[1;34m\"Home Page\"\u001b[0m\u001b[1;33m:\u001b[0m\u001b[1;33m\u001b[0m\u001b[1;33m\u001b[0m\u001b[0m\n",
      "\u001b[1;31mNameError\u001b[0m: name 'st' is not defined"
     ]
    }
   ],
   "source": [
    "app_mode = st.sidebar.selectbox(\"Choose the app mode\",\n",
    "[\"Home Page\",\"Forecasting\", \"Anomaly Detection\",\"About\"],\n",
    "help=\"Select the page\",index=0)\n",
    "\n",
    "if app_mode == \"Home Page\":\n",
    "    try:\n",
    "        m.homepage()\n",
    "    except Exception as e:\n",
    "        st.error(\"Please restart the app\"+\"\\n\"+str(e))\n",
    "\n",
    "elif app_mode == \"Forecasting\":\n",
    "    try:\n",
    "        m.forecasting()\n",
    "    except FileNotFoundError:\n",
    "        st.error(\"Please go main page, select company and save the data\")\n",
    "    except Exception as e:\n",
    "        st.error(\"Please try again\"+\"\\n\"+str(e))\n",
    "\n",
    "elif app_mode =='Anomaly Detection':\n",
    "    try:\n",
    "        m.anomaly()\n",
    "    except FileNotFoundError:\n",
    "        st.error(\"Please go main page, select company and save the data\")\n",
    "    except Exception as e:\n",
    "        st.error(\"Please try again\"+\"\\n\"+str(e))"
   ]
  },
  {
   "cell_type": "code",
   "execution_count": null,
   "metadata": {},
   "outputs": [],
   "source": []
  }
 ],
 "metadata": {
  "interpreter": {
   "hash": "b8d2e9a42900128ee0c8b758b0a0af1ea7a794cd0ac1dfa4d83b6c182e66d36b"
  },
  "kernelspec": {
   "display_name": "Python 3.7.1 64-bit",
   "language": "python",
   "name": "python3"
  },
  "language_info": {
   "codemirror_mode": {
    "name": "ipython",
    "version": 3
   },
   "file_extension": ".py",
   "mimetype": "text/x-python",
   "name": "python",
   "nbconvert_exporter": "python",
   "pygments_lexer": "ipython3",
   "version": "3.7.1"
  },
  "orig_nbformat": 4
 },
 "nbformat": 4,
 "nbformat_minor": 2
}
